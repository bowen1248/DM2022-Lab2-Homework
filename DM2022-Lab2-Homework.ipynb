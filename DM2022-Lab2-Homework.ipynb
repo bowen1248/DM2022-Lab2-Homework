{
 "cells": [
  {
   "cell_type": "markdown",
   "metadata": {},
   "source": [
    "### Student Information\n",
    "Name: 李柏葳\n",
    "\n",
    "Student ID: 111065525\n",
    "\n",
    "GitHub ID: bowen1248\n",
    "\n",
    "Kaggle name: bowen1248\n",
    "\n",
    "Kaggle private scoreboard snapshot:\n",
    "\n",
    "![leaderboard](img/comp_result.jpg)"
   ]
  },
  {
   "cell_type": "markdown",
   "metadata": {},
   "source": [
    "---"
   ]
  },
  {
   "cell_type": "markdown",
   "metadata": {},
   "source": [
    "### Instructions"
   ]
  },
  {
   "cell_type": "markdown",
   "metadata": {},
   "source": [
    "1. First: __This part is worth 30% of your grade.__ Do the **take home** exercises in the [DM2022-Lab2-master Repo](https://github.com/keziatamus/DM2022-Lab2-Master). You may need to copy some cells from the Lab notebook to this notebook. \n",
    "\n",
    "\n",
    "2. Second: __This part is worth 30% of your grade.__ Participate in the in-class [Kaggle Competition](https://www.kaggle.com/competitions/dm2022-isa5810-lab2-homework) regarding Emotion Recognition on Twitter by this link https://www.kaggle.com/t/2b0d14a829f340bc88d2660dc602d4bd. The scoring will be given according to your place in the Private Leaderboard ranking: \n",
    "    - **Bottom 40%**: Get 20% of the 30% available for this section.\n",
    "\n",
    "    - **Top 41% - 100%**: Get (60-x)/6 + 20 points, where x is your ranking in the leaderboard (ie. If you rank 3rd your score will be (60-3)/6 + 20 = 29.5% out of 30%)   \n",
    "    Submit your last submission __BEFORE the deadline (Nov. 22th 11:59 pm, Tuesday)_. Make sure to take a screenshot of your position at the end of the competition and store it as '''pic0.png''' under the **img** folder of this repository and rerun the cell **Student Information**.\n",
    "    \n",
    "\n",
    "3. Third: __This part is worth 30% of your grade.__ A report of your work developping the model for the competition (You can use code and comment it). This report should include what your preprocessing steps, the feature engineering steps and an explanation of your model. You can also mention different things you tried and insights you gained. \n",
    "\n",
    "\n",
    "4. Fourth: __This part is worth 10% of your grade.__ It's hard for us to follow if your code is messy :'(, so please **tidy up your notebook** and **add minimal comments where needed**.\n",
    "\n",
    "\n",
    "Upload your files to your repository then submit the link to it on the corresponding e-learn assignment.\n",
    "\n",
    "Make sure to commit and save your changes to your repository __BEFORE the deadline (Nov. 25th 11:59 pm, Friday)__. "
   ]
  },
  {
   "cell_type": "markdown",
   "metadata": {},
   "source": [
    "## First part"
   ]
  },
  {
   "cell_type": "code",
   "execution_count": 4,
   "metadata": {},
   "outputs": [
    {
     "data": {
      "text/html": [
       "<div>\n",
       "<style scoped>\n",
       "    .dataframe tbody tr th:only-of-type {\n",
       "        vertical-align: middle;\n",
       "    }\n",
       "\n",
       "    .dataframe tbody tr th {\n",
       "        vertical-align: top;\n",
       "    }\n",
       "\n",
       "    .dataframe thead th {\n",
       "        text-align: right;\n",
       "    }\n",
       "</style>\n",
       "<table border=\"1\" class=\"dataframe\">\n",
       "  <thead>\n",
       "    <tr style=\"text-align: right;\">\n",
       "      <th></th>\n",
       "      <th>id</th>\n",
       "      <th>text</th>\n",
       "      <th>emotion</th>\n",
       "      <th>intensity</th>\n",
       "    </tr>\n",
       "  </thead>\n",
       "  <tbody>\n",
       "    <tr>\n",
       "      <th>0</th>\n",
       "      <td>10000</td>\n",
       "      <td>How the fu*k! Who the heck! moved my fridge!.....</td>\n",
       "      <td>anger</td>\n",
       "      <td>0.938</td>\n",
       "    </tr>\n",
       "    <tr>\n",
       "      <th>1</th>\n",
       "      <td>10001</td>\n",
       "      <td>So my Indian Uber driver just called someone t...</td>\n",
       "      <td>anger</td>\n",
       "      <td>0.896</td>\n",
       "    </tr>\n",
       "    <tr>\n",
       "      <th>2</th>\n",
       "      <td>10002</td>\n",
       "      <td>@DPD_UK I asked for my parcel to be delivered ...</td>\n",
       "      <td>anger</td>\n",
       "      <td>0.896</td>\n",
       "    </tr>\n",
       "    <tr>\n",
       "      <th>3</th>\n",
       "      <td>10003</td>\n",
       "      <td>so ef whichever butt wipe pulled the fire alar...</td>\n",
       "      <td>anger</td>\n",
       "      <td>0.896</td>\n",
       "    </tr>\n",
       "    <tr>\n",
       "      <th>4</th>\n",
       "      <td>10004</td>\n",
       "      <td>Don't join @BTCare they put the phone down on ...</td>\n",
       "      <td>anger</td>\n",
       "      <td>0.896</td>\n",
       "    </tr>\n",
       "  </tbody>\n",
       "</table>\n",
       "</div>"
      ],
      "text/plain": [
       "      id                                               text emotion  intensity\n",
       "0  10000  How the fu*k! Who the heck! moved my fridge!.....   anger      0.938\n",
       "1  10001  So my Indian Uber driver just called someone t...   anger      0.896\n",
       "2  10002  @DPD_UK I asked for my parcel to be delivered ...   anger      0.896\n",
       "3  10003  so ef whichever butt wipe pulled the fire alar...   anger      0.896\n",
       "4  10004  Don't join @BTCare they put the phone down on ...   anger      0.896"
      ]
     },
     "execution_count": 4,
     "metadata": {},
     "output_type": "execute_result"
    }
   ],
   "source": [
    "### Preprocessing\n",
    "import pandas as pd\n",
    "\n",
    "### Load training data\n",
    "anger_train = pd.read_csv(\"data/semeval/train/anger-ratings-0to1.train.txt\",\n",
    "                         sep=\"\\t\", header=None,names=[\"id\", \"text\", \"emotion\", \"intensity\"])\n",
    "sadness_train = pd.read_csv(\"data/semeval/train/sadness-ratings-0to1.train.txt\",\n",
    "                         sep=\"\\t\", header=None, names=[\"id\", \"text\", \"emotion\", \"intensity\"])\n",
    "fear_train = pd.read_csv(\"data/semeval/train/fear-ratings-0to1.train.txt\",\n",
    "                         sep=\"\\t\", header=None, names=[\"id\", \"text\", \"emotion\", \"intensity\"])\n",
    "joy_train = pd.read_csv(\"data/semeval/train/joy-ratings-0to1.train.txt\",\n",
    "                         sep=\"\\t\", header=None, names=[\"id\", \"text\", \"emotion\", \"intensity\"])\n",
    "\n",
    "# Combine 4 training-sub-dataset\n",
    "train_df = pd.concat([anger_train, fear_train, joy_train, sadness_train], ignore_index=True)\n",
    "\n",
    "### Load 4 testing data\n",
    "anger_test = pd.read_csv(\"data/semeval/dev/anger-ratings-0to1.dev.gold.txt\",\n",
    "                         sep=\"\\t\", header=None, names=[\"id\", \"text\", \"emotion\", \"intensity\"])\n",
    "sadness_test = pd.read_csv(\"data/semeval/dev/sadness-ratings-0to1.dev.gold.txt\",\n",
    "                         sep=\"\\t\", header=None, names=[\"id\", \"text\", \"emotion\", \"intensity\"])\n",
    "fear_test = pd.read_csv(\"data/semeval/dev/fear-ratings-0to1.dev.gold.txt\",\n",
    "                         sep=\"\\t\", header=None, names=[\"id\", \"text\", \"emotion\", \"intensity\"])\n",
    "joy_test = pd.read_csv(\"data/semeval/dev/joy-ratings-0to1.dev.gold.txt\",\n",
    "                         sep=\"\\t\", header=None, names=[\"id\", \"text\", \"emotion\", \"intensity\"])\n",
    "\n",
    "# Combine 4 testing-sub-dataset\n",
    "test_df = pd.concat([anger_test, fear_test, joy_test, sadness_test], ignore_index=True)\n",
    "train_df.head()"
   ]
  },
  {
   "cell_type": "markdown",
   "metadata": {},
   "source": [
    "### >>> Exercise 1 (Take home):\n",
    "Plot word frequency for Top 30 words in both train and test dataset. (Hint: refer to DM lab 1)"
   ]
  },
  {
   "cell_type": "code",
   "execution_count": 5,
   "metadata": {
    "scrolled": true
   },
   "outputs": [
    {
     "name": "stderr",
     "output_type": "stream",
     "text": [
      "/tmp/ipykernel_2696/356754532.py:22: FutureWarning: The behavior of `series[i:j]` with an integer-dtype index is deprecated. In a future version, this will be treated as *label-based* indexing, consistent with e.g. `series[i]` lookups. To retain the old behavior, use `series.iloc[i:j]`. To get the future behavior, use `series.loc[i:j]`.\n",
      "  g1 = sns.barplot(x=train_tf_df_sorted[\"name\"][:30],\n",
      "/tmp/ipykernel_2696/356754532.py:23: FutureWarning: The behavior of `series[i:j]` with an integer-dtype index is deprecated. In a future version, this will be treated as *label-based* indexing, consistent with e.g. `series[i]` lookups. To retain the old behavior, use `series.iloc[i:j]`. To get the future behavior, use `series.loc[i:j]`.\n",
      "  y=train_tf_df_sorted[\"freq\"][:30])\n",
      "/tmp/ipykernel_2696/356754532.py:24: FutureWarning: The behavior of `series[i:j]` with an integer-dtype index is deprecated. In a future version, this will be treated as *label-based* indexing, consistent with e.g. `series[i]` lookups. To retain the old behavior, use `series.iloc[i:j]`. To get the future behavior, use `series.loc[i:j]`.\n",
      "  g1.set_xticklabels(train_tf_df_sorted[\"name\"][:30], rotation = 90);\n",
      "/tmp/ipykernel_2696/356754532.py:28: FutureWarning: The behavior of `series[i:j]` with an integer-dtype index is deprecated. In a future version, this will be treated as *label-based* indexing, consistent with e.g. `series[i]` lookups. To retain the old behavior, use `series.iloc[i:j]`. To get the future behavior, use `series.loc[i:j]`.\n",
      "  g2 = sns.barplot(x=test_tf_df_sorted[\"name\"][:30],\n",
      "/tmp/ipykernel_2696/356754532.py:29: FutureWarning: The behavior of `series[i:j]` with an integer-dtype index is deprecated. In a future version, this will be treated as *label-based* indexing, consistent with e.g. `series[i]` lookups. To retain the old behavior, use `series.iloc[i:j]`. To get the future behavior, use `series.loc[i:j]`.\n",
      "  y=test_tf_df_sorted[\"freq\"][:30])\n",
      "/tmp/ipykernel_2696/356754532.py:30: FutureWarning: The behavior of `series[i:j]` with an integer-dtype index is deprecated. In a future version, this will be treated as *label-based* indexing, consistent with e.g. `series[i]` lookups. To retain the old behavior, use `series.iloc[i:j]`. To get the future behavior, use `series.loc[i:j]`.\n",
      "  g2.set_xticklabels(test_tf_df_sorted[\"name\"][:30], rotation = 90);\n"
     ]
    },
    {
     "data": {
      "image/png": "[encoded data removed]",
      "text/plain": [
       "<Figure size 1000x1000 with 1 Axes>"
      ]
     },
     "metadata": {},
     "output_type": "display_data"
    },
    {
     "data": {
      "image/png": "[encoded data removed]",
      "text/plain": [
       "<Figure size 1000x1000 with 1 Axes>"
      ]
     },
     "metadata": {},
     "output_type": "display_data"
    }
   ],
   "source": [
    "from sklearn.feature_extraction.text import CountVectorizer\n",
    "import matplotlib.pyplot as plt\n",
    "import seaborn as sns\n",
    "import numpy as np\n",
    "\n",
    "### Get sorted word frequency of training dataset\n",
    "train_vectorizer = CountVectorizer()\n",
    "train_vec = train_vectorizer.fit_transform(train_df['text'])\n",
    "train_tf = np.asarray(train_vec.sum(axis=0))[0]\n",
    "train_tf_df = pd.DataFrame({\"freq\": train_tf, \"name\": train_vectorizer.get_feature_names_out()})\n",
    "train_tf_df_sorted = train_tf_df.sort_values(by=['freq'], ascending=False)\n",
    "\n",
    "### Get sorted word frequency of testing dataset\n",
    "test_vectorizer = CountVectorizer()\n",
    "test_vec = test_vectorizer.fit_transform(test_df['text'])\n",
    "test_tf = np.asarray(test_vec.sum(axis=0))[0]\n",
    "test_tf_df = pd.DataFrame({\"freq\": test_tf, \"name\": test_vectorizer.get_feature_names_out()})\n",
    "test_tf_df_sorted = test_tf_df.sort_values(by=['freq'], ascending=False)\n",
    "\n",
    "### Plot train data word frequency\n",
    "plt.subplots(figsize=(10, 10))\n",
    "g1 = sns.barplot(x=train_tf_df_sorted[\"name\"][:30], \n",
    "            y=train_tf_df_sorted[\"freq\"][:30])\n",
    "g1.set_xticklabels(train_tf_df_sorted[\"name\"][:30], rotation = 90);\n",
    "\n",
    "### Plot test data word frequency\n",
    "plt.subplots(figsize=(10, 10))\n",
    "g2 = sns.barplot(x=test_tf_df_sorted[\"name\"][:30], \n",
    "            y=test_tf_df_sorted[\"freq\"][:30])\n",
    "g2.set_xticklabels(test_tf_df_sorted[\"name\"][:30], rotation = 90);"
   ]
  },
  {
   "cell_type": "markdown",
   "metadata": {},
   "source": [
    "### >>> Exercise 2 (Take home):\n",
    "Generate an embedding using the TF-IDF vectorizer instead of th BOW one with 1000 features and show the feature names for features [100:110]."
   ]
  },
  {
   "cell_type": "code",
   "execution_count": 6,
   "metadata": {},
   "outputs": [
    {
     "name": "stdout",
     "output_type": "stream",
     "text": [
      "['awful' 'b' 'baby' 'back' 'bad' 'ball' 'balls' 'bb18' 'bc' 'bday']\n",
      "(3613, 1000)\n"
     ]
    }
   ],
   "source": [
    "from sklearn.feature_extraction.text import TfidfVectorizer\n",
    "import nltk\n",
    "\n",
    "### Directly get TF-IDF feature from training data's text\n",
    "TF_1000 = TfidfVectorizer(max_features = 1000, tokenizer=nltk.word_tokenize)\n",
    "train_tf_1000 = TF_1000.fit_transform(train_df.text)\n",
    "print(TF_1000.get_feature_names_out()[100:110])\n",
    "print(train_tf_1000.shape)\n"
   ]
  },
  {
   "cell_type": "markdown",
   "metadata": {},
   "source": [
    "### >>> Exercise 3 (Take home):\n",
    "Can you interpret the results above? What do they mean?"
   ]
  },
  {
   "cell_type": "markdown",
   "metadata": {},
   "source": [
    "1. The training accuracy is much higher than testing accuracy, in fact the accuracy of training is almost 1, while testing result indicates classifier only gets two-thirds right. So we can see that the model is learning too well in train dataset domain (maybe model have overfitted), but classifier itself have not really learn the distribution that can identify general tweets well. This shows that decision tree classifier is a good classifier for Bag of words method, we can decrease trees depth to solve overfitting problem. However bag of words itself is not looking good in tweet identifying.\n",
    "\n",
    "2. We can see how classifier confuse predicted label to actual label by observe confusion matrix. In confusion matrix, we can see that classifier is most often predict wrong result between angry and fear tweet, since there are 16 fear tweets that is actually angry tweets, and 20 angry tweets that is actually fear tweets. And then we need to print out wrong predictions to investigate further.\n",
    "\n",
    "3. Another points worth mentioning is sadness tweets have lowest precision and recall rates, and it tends to confuse evenly distributed to all 3 other emotions."
   ]
  },
  {
   "cell_type": "markdown",
   "metadata": {},
   "source": [
    "### >>> Exercise 4 (Take home): \n",
    "Build a model using a Naive Bayes model and train it. What are the testing results?\n",
    "\n",
    "Reference: https://scikit-learn.org/stable/modules/generated/sklearn.naive_bayes.MultinomialNB.html"
   ]
  },
  {
   "cell_type": "code",
   "execution_count": 7,
   "metadata": {},
   "outputs": [
    {
     "name": "stderr",
     "output_type": "stream",
     "text": [
      "/home/bowen/miniconda3/envs/DM_2022/lib/python3.10/site-packages/sklearn/feature_extraction/text.py:524: UserWarning: The parameter 'token_pattern' will not be used since 'tokenizer' is not None'\n",
      "  warnings.warn(\n"
     ]
    },
    {
     "name": "stdout",
     "output_type": "stream",
     "text": [
      "X_train.shape:  (3613, 500)\n",
      "y_train.shape:  (3613,)\n",
      "X_test.shape:  (347, 500)\n",
      "y_test.shape:  (347,)\n"
     ]
    }
   ],
   "source": [
    "# for a classificaiton problem, you need to provide both training & testing data\n",
    "BOW_500 = CountVectorizer(max_features=500, tokenizer=nltk.word_tokenize)\n",
    "BOW_500.fit(train_df['text'])\n",
    "\n",
    "X_train = BOW_500.transform(train_df['text'])\n",
    "y_train = train_df['emotion']\n",
    "\n",
    "X_test = BOW_500.transform(test_df['text'])\n",
    "y_test = test_df['emotion']\n",
    "\n",
    "## take a look at data dimension is a good habbit  :)\n",
    "print('X_train.shape: ', X_train.shape)\n",
    "print('y_train.shape: ', y_train.shape)\n",
    "print('X_test.shape: ', X_test.shape)\n",
    "print('y_test.shape: ', y_test.shape)"
   ]
  },
  {
   "cell_type": "code",
   "execution_count": 8,
   "metadata": {},
   "outputs": [],
   "source": [
    "from sklearn.naive_bayes import MultinomialNB\n",
    "from sklearn.tree import DecisionTreeClassifier\n",
    "\n",
    "## DecisionTree model\n",
    "DT_model = DecisionTreeClassifier(random_state=0)\n",
    "DT_model = DT_model.fit(X_train, y_train)\n",
    "DT_train_pred = DT_model.predict(X_train)\n",
    "DT_test_pred = DT_model.predict(X_test)\n",
    "\n",
    "## DecisionTree model with limited depth\n",
    "DT_model_2 = DecisionTreeClassifier(random_state=0, max_depth=80)\n",
    "DT_model_2 = DT_model_2.fit(X_train, y_train)\n",
    "DT_train_pred_2 = DT_model_2.predict(X_train)\n",
    "DT_test_pred_2 = DT_model_2.predict(X_test)\n",
    "\n",
    "## Naive Bayes model\n",
    "NB_clf = MultinomialNB()\n",
    "NB_clf.fit(X_train, y_train)\n",
    "NB_train_pred = NB_clf.predict(X_train)\n",
    "NB_test_pred = NB_clf.predict(X_test)\n",
    "\n"
   ]
  },
  {
   "cell_type": "code",
   "execution_count": 9,
   "metadata": {},
   "outputs": [
    {
     "name": "stdout",
     "output_type": "stream",
     "text": [
      "Decision tree training accuracy: 0.99\n",
      "              precision    recall  f1-score   support\n",
      "\n",
      "       anger       1.00      0.97      0.98       888\n",
      "        fear       1.00      0.98      0.99      1164\n",
      "         joy       1.00      1.00      1.00       820\n",
      "     sadness       0.94      1.00      0.97       741\n",
      "\n",
      "    accuracy                           0.99      3613\n",
      "   macro avg       0.98      0.99      0.99      3613\n",
      "weighted avg       0.99      0.99      0.99      3613\n",
      "\n",
      "[[ 857    3    2   26]\n",
      " [   0 1144    1   19]\n",
      " [   0    0  820    0]\n",
      " [   0    0    0  741]]\n",
      "Decision tree testing accuracy: 0.66\n",
      "              precision    recall  f1-score   support\n",
      "\n",
      "       anger       0.65      0.63      0.64        87\n",
      "        fear       0.69      0.66      0.68       115\n",
      "         joy       0.68      0.70      0.69        77\n",
      "     sadness       0.59      0.65      0.62        68\n",
      "\n",
      "    accuracy                           0.66       347\n",
      "   macro avg       0.66      0.66      0.66       347\n",
      "weighted avg       0.66      0.66      0.66       347\n",
      "\n",
      "[[55 16  7  9]\n",
      " [20 76  8 11]\n",
      " [ 5  8 54 10]\n",
      " [ 4 10 10 44]]\n",
      "Decision tree with limit training accuracy: 0.8\n",
      "              precision    recall  f1-score   support\n",
      "\n",
      "       anger       0.65      0.96      0.77       577\n",
      "        fear       1.00      0.62      0.77      1844\n",
      "         joy       0.80      1.00      0.89       658\n",
      "     sadness       0.68      1.00      0.81       534\n",
      "\n",
      "    accuracy                           0.80      3613\n",
      "   macro avg       0.78      0.89      0.81      3613\n",
      "weighted avg       0.86      0.80      0.80      3613\n",
      "\n",
      "[[ 554    2    1   20]\n",
      " [ 302 1145  166  231]\n",
      " [   1    0  656    1]\n",
      " [   0    0    0  534]]\n",
      "Decision tree with limit testing accuracy: 0.67\n",
      "              precision    recall  f1-score   support\n",
      "\n",
      "       anger       0.55      0.84      0.66        55\n",
      "        fear       0.87      0.53      0.66       182\n",
      "         joy       0.66      0.81      0.73        64\n",
      "     sadness       0.51      0.83      0.63        46\n",
      "\n",
      "    accuracy                           0.67       347\n",
      "   macro avg       0.65      0.75      0.67       347\n",
      "weighted avg       0.73      0.67      0.67       347\n",
      "\n",
      "[[46  5  1  3]\n",
      " [33 96 24 29]\n",
      " [ 4  4 52  4]\n",
      " [ 1  5  2 38]]\n",
      "Naive Bayes training accuracy: 0.79\n",
      "              precision    recall  f1-score   support\n",
      "\n",
      "       anger       0.80      0.77      0.78       892\n",
      "        fear       0.81      0.78      0.79      1189\n",
      "         joy       0.80      0.87      0.83       761\n",
      "     sadness       0.75      0.76      0.76       771\n",
      "\n",
      "    accuracy                           0.79      3613\n",
      "   macro avg       0.79      0.79      0.79      3613\n",
      "weighted avg       0.79      0.79      0.79      3613\n",
      "\n",
      "[[684  91  45  72]\n",
      " [ 93 928  74  94]\n",
      " [ 33  37 660  31]\n",
      " [ 47  91  44 589]]\n",
      "Naive Bayes testing accuracy: 0.7\n",
      "              precision    recall  f1-score   support\n",
      "\n",
      "       anger       0.65      0.63      0.64        87\n",
      "        fear       0.77      0.73      0.75       116\n",
      "         joy       0.71      0.78      0.74        72\n",
      "     sadness       0.62      0.64      0.63        72\n",
      "\n",
      "    accuracy                           0.70       347\n",
      "   macro avg       0.69      0.70      0.69       347\n",
      "weighted avg       0.70      0.70      0.70       347\n",
      "\n",
      "[[55  9 11 12]\n",
      " [15 85  6 10]\n",
      " [ 5  5 56  6]\n",
      " [ 9 11  6 46]]\n"
     ]
    }
   ],
   "source": [
    "# Results\n",
    "from sklearn.metrics import accuracy_score\n",
    "from sklearn import metrics\n",
    "\n",
    "### Decision tree pred result\n",
    "acc_train = accuracy_score(y_true=y_train, y_pred=DT_train_pred)\n",
    "acc_test = accuracy_score(y_true=y_test, y_pred=DT_test_pred)\n",
    "\n",
    "print('Decision tree training accuracy: {}'.format(round(acc_train, 2)))\n",
    "print(metrics.classification_report(DT_train_pred, y_train))\n",
    "print(metrics.confusion_matrix(DT_train_pred, y_train))\n",
    "\n",
    "print('Decision tree testing accuracy: {}'.format(round(acc_test, 2)))\n",
    "print(metrics.classification_report(DT_test_pred, y_test))\n",
    "print(metrics.confusion_matrix(DT_test_pred, y_test))\n",
    "\n",
    "### Decision tree with limit pred result\n",
    "acc_train = accuracy_score(y_true=y_train, y_pred=DT_train_pred_2)\n",
    "acc_test = accuracy_score(y_true=y_test, y_pred=DT_test_pred_2)\n",
    "\n",
    "print('Decision tree with limit training accuracy: {}'.format(round(acc_train, 2)))\n",
    "print(metrics.classification_report(DT_train_pred_2, y_train))\n",
    "print(metrics.confusion_matrix(DT_train_pred_2, y_train))\n",
    "\n",
    "print('Decision tree with limit testing accuracy: {}'.format(round(acc_test, 2)))\n",
    "print(metrics.classification_report(DT_test_pred_2, y_test))\n",
    "print(metrics.confusion_matrix(DT_test_pred_2, y_test))\n",
    "\n",
    "### Naive Bayes pred result\n",
    "acc_train = accuracy_score(y_true=y_train, y_pred=NB_train_pred)\n",
    "acc_test = accuracy_score(y_true=y_test, y_pred=NB_test_pred)\n",
    "\n",
    "print('Naive Bayes training accuracy: {}'.format(round(acc_train, 2)))\n",
    "print(metrics.classification_report(NB_train_pred, y_train))\n",
    "print(metrics.confusion_matrix(NB_train_pred, y_train))\n",
    "\n",
    "print('Naive Bayes testing accuracy: {}'.format(round(acc_test, 2)))\n",
    "print(metrics.classification_report(NB_test_pred, y_test))\n",
    "print(metrics.confusion_matrix(NB_test_pred, y_test))"
   ]
  },
  {
   "cell_type": "markdown",
   "metadata": {},
   "source": [
    "### >>> Exercise 5 (Take home):\n",
    "How do the results from the Naive Bayes model and the Decision Tree model compare? How do you interpret these differences? Use the theoretical background covered in class to try and explain these differences."
   ]
  },
  {
   "cell_type": "markdown",
   "metadata": {},
   "source": [
    "The training accuracy of the Decision tree model is much higher than the Naive Bayes model, while testing accuracy is relative same. Is this result caused by overfitting? I experienced it with another limited depth decision tree to make training accuracy lower, however testing accuracy remains the same. This shows that decision tree classifier is a good classifier for Bag of words method, we can decrease trees depth to solve overfitting problem. However bag of words itself is not looking good in tweet identifying. Due to it did not consider relation of words in sentence, nor does like TF-IDF to fliter high frequency words."
   ]
  },
  {
   "cell_type": "markdown",
   "metadata": {},
   "source": [
    "### >>> Exercise 6 (Take home):\n",
    "Plot the Training and Validation Accuracy and Loss (different plots), just like the images below.(Note: the pictures below are an example from a different model). How to interpret the graphs you got? How are they related to the concept of overfitting/underfitting covered in class?"
   ]
  },
  {
   "cell_type": "code",
   "execution_count": 10,
   "metadata": {},
   "outputs": [
    {
     "name": "stderr",
     "output_type": "stream",
     "text": [
      "2022-11-27 22:08:24.878893: I tensorflow/core/platform/cpu_feature_guard.cc:193] This TensorFlow binary is optimized with oneAPI Deep Neural Network Library (oneDNN) to use the following CPU instructions in performance-critical operations:  SSE4.1 SSE4.2 AVX AVX2 AVX_VNNI FMA\n",
      "To enable them in other operations, rebuild TensorFlow with the appropriate compiler flags.\n"
     ]
    },
    {
     "name": "stdout",
     "output_type": "stream",
     "text": [
      "check label:  ['anger' 'fear' 'joy' 'sadness']\n",
      "\n",
      "## Before convert\n",
      "y_train[0:4]:\n",
      " 0    anger\n",
      "1    anger\n",
      "2    anger\n",
      "3    anger\n",
      "Name: emotion, dtype: object\n",
      "\n",
      "y_train.shape:  (3613,)\n",
      "y_test.shape:  (347,)\n",
      "\n",
      "\n",
      "## After convert\n",
      "y_train[0:4]:\n",
      " [[1. 0. 0. 0.]\n",
      " [1. 0. 0. 0.]\n",
      " [1. 0. 0. 0.]\n",
      " [1. 0. 0. 0.]]\n",
      "\n",
      "y_train.shape:  (3613, 4)\n",
      "y_test.shape:  (347, 4)\n",
      "input_shape:  500\n",
      "output_shape:  4\n"
     ]
    }
   ],
   "source": [
    "## deal with label (string -> one-hot)\n",
    "from sklearn.preprocessing import LabelEncoder\n",
    "import keras\n",
    "\n",
    "label_encoder = LabelEncoder()\n",
    "label_encoder.fit(y_train)\n",
    "print('check label: ', label_encoder.classes_)\n",
    "print('\\n## Before convert')\n",
    "print('y_train[0:4]:\\n', y_train[0:4])\n",
    "print('\\ny_train.shape: ', y_train.shape)\n",
    "print('y_test.shape: ', y_test.shape)\n",
    "\n",
    "def label_encode(le, labels):\n",
    "    enc = le.transform(labels)\n",
    "    return keras.utils.to_categorical(enc)\n",
    "\n",
    "def label_decode(le, one_hot_label):\n",
    "    dec = np.argmax(one_hot_label, axis=1)\n",
    "    return le.inverse_transform(dec)\n",
    "\n",
    "y_train = label_encode(label_encoder, y_train)\n",
    "y_test = label_encode(label_encoder, y_test)\n",
    "\n",
    "print('\\n\\n## After convert')\n",
    "print('y_train[0:4]:\\n', y_train[0:4])\n",
    "print('\\ny_train.shape: ', y_train.shape)\n",
    "print('y_test.shape: ', y_test.shape)\n",
    "\n",
    "# I/O check\n",
    "input_shape = X_train.shape[1]\n",
    "print('input_shape: ', input_shape)\n",
    "\n",
    "output_shape = len(label_encoder.classes_)\n",
    "print('output_shape: ', output_shape)"
   ]
  },
  {
   "cell_type": "code",
   "execution_count": 11,
   "metadata": {},
   "outputs": [
    {
     "name": "stdout",
     "output_type": "stream",
     "text": [
      "Model: \"model\"\n",
      "_________________________________________________________________\n",
      " Layer (type)                Output Shape              Param #   \n",
      "=================================================================\n",
      " input_1 (InputLayer)        [(None, 500)]             0         \n",
      "                                                                 \n",
      " dense (Dense)               (None, 64)                32064     \n",
      "                                                                 \n",
      " re_lu (ReLU)                (None, 64)                0         \n",
      "                                                                 \n",
      " dense_1 (Dense)             (None, 64)                4160      \n",
      "                                                                 \n",
      " re_lu_1 (ReLU)              (None, 64)                0         \n",
      "                                                                 \n",
      " dense_2 (Dense)             (None, 4)                 260       \n",
      "                                                                 \n",
      " softmax (Softmax)           (None, 4)                 0         \n",
      "                                                                 \n",
      "=================================================================\n",
      "Total params: 36,484\n",
      "Trainable params: 36,484\n",
      "Non-trainable params: 0\n",
      "_________________________________________________________________\n"
     ]
    },
    {
     "name": "stderr",
     "output_type": "stream",
     "text": [
      "2022-11-27 22:08:25.782920: I tensorflow/core/platform/cpu_feature_guard.cc:193] This TensorFlow binary is optimized with oneAPI Deep Neural Network Library (oneDNN) to use the following CPU instructions in performance-critical operations:  SSE4.1 SSE4.2 AVX AVX2 AVX_VNNI FMA\n",
      "To enable them in other operations, rebuild TensorFlow with the appropriate compiler flags.\n",
      "2022-11-27 22:08:25.784873: I tensorflow/core/common_runtime/process_util.cc:146] Creating new thread pool with default inter op setting: 2. Tune using inter_op_parallelism_threads for best performance.\n"
     ]
    }
   ],
   "source": [
    "### Create NN model\n",
    "from keras.models import Model\n",
    "from keras.layers import Input, Dense\n",
    "from keras.layers import ReLU, Softmax\n",
    "\n",
    "# input layer\n",
    "model_input = Input(shape=(input_shape, ))  # 500\n",
    "X = model_input\n",
    "\n",
    "# 1st hidden layer\n",
    "X_W1 = Dense(units=64)(X)  # 64\n",
    "H1 = ReLU()(X_W1)\n",
    "\n",
    "# 2nd hidden layer\n",
    "H1_W2 = Dense(units=64)(H1)  # 64\n",
    "H2 = ReLU()(H1_W2)\n",
    "\n",
    "# output layer\n",
    "H2_W3 = Dense(units=output_shape)(H2)  # 4\n",
    "H3 = Softmax()(H2_W3)\n",
    "\n",
    "model_output = H3\n",
    "\n",
    "# create model\n",
    "model = Model(inputs=[model_input], outputs=[model_output])\n",
    "\n",
    "# loss function & optimizer\n",
    "model.compile(optimizer='adam',\n",
    "              loss='categorical_crossentropy',\n",
    "              metrics=['accuracy'])\n",
    "\n",
    "# show model construction\n",
    "model.summary()"
   ]
  },
  {
   "cell_type": "code",
   "execution_count": 12,
   "metadata": {},
   "outputs": [
    {
     "name": "stdout",
     "output_type": "stream",
     "text": [
      "Epoch 1/25\n"
     ]
    },
    {
     "name": "stderr",
     "output_type": "stream",
     "text": [
      "/home/bowen/miniconda3/envs/DM_2022/lib/python3.10/site-packages/tensorflow/python/framework/indexed_slices.py:444: UserWarning: Converting sparse IndexedSlices(IndexedSlices(indices=Tensor(\"gradient_tape/model/dense/embedding_lookup_sparse/Reshape_1:0\", shape=(None,), dtype=int32), values=Tensor(\"gradient_tape/model/dense/embedding_lookup_sparse/Reshape:0\", shape=(None, 64), dtype=float32), dense_shape=Tensor(\"gradient_tape/model/dense/embedding_lookup_sparse/Cast:0\", shape=(2,), dtype=int32))) to a dense Tensor of unknown shape. This may consume a large amount of memory.\n",
      "  warnings.warn(\n"
     ]
    },
    {
     "name": "stdout",
     "output_type": "stream",
     "text": [
      "113/113 [==============================] - 1s 5ms/step - loss: 1.3345 - accuracy: 0.3504 - val_loss: 1.3014 - val_accuracy: 0.3890\n",
      "Epoch 2/25\n",
      "113/113 [==============================] - 0s 3ms/step - loss: 1.0248 - accuracy: 0.6133 - val_loss: 0.9252 - val_accuracy: 0.6513\n",
      "Epoch 3/25\n",
      "113/113 [==============================] - 1s 7ms/step - loss: 0.5971 - accuracy: 0.7874 - val_loss: 0.7821 - val_accuracy: 0.6859\n",
      "Epoch 4/25\n",
      "113/113 [==============================] - 0s 3ms/step - loss: 0.4181 - accuracy: 0.8494 - val_loss: 0.7629 - val_accuracy: 0.6830\n",
      "Epoch 5/25\n",
      "113/113 [==============================] - 0s 4ms/step - loss: 0.3151 - accuracy: 0.8907 - val_loss: 0.8128 - val_accuracy: 0.7032\n",
      "Epoch 6/25\n",
      "  1/113 [..............................] - ETA: 3s - loss: 0.3240 - accuracy: 0.9062"
     ]
    },
    {
     "name": "stderr",
     "output_type": "stream",
     "text": [
      "2022-11-27 22:08:29.360586: W tensorflow/core/data/root_dataset.cc:266] Optimization loop failed: CANCELLED: Operation was cancelled\n"
     ]
    },
    {
     "name": "stdout",
     "output_type": "stream",
     "text": [
      "113/113 [==============================] - 0s 4ms/step - loss: 0.2565 - accuracy: 0.9070 - val_loss: 0.8555 - val_accuracy: 0.6859\n",
      "Epoch 7/25\n",
      "113/113 [==============================] - 0s 3ms/step - loss: 0.2106 - accuracy: 0.9286 - val_loss: 0.9193 - val_accuracy: 0.6916\n",
      "Epoch 8/25\n",
      "113/113 [==============================] - 0s 3ms/step - loss: 0.1718 - accuracy: 0.9446 - val_loss: 0.9814 - val_accuracy: 0.6859\n",
      "Epoch 9/25\n",
      " 51/113 [============>.................] - ETA: 0s - loss: 0.1390 - accuracy: 0.9559"
     ]
    },
    {
     "name": "stderr",
     "output_type": "stream",
     "text": [
      "2022-11-27 22:08:30.737704: W tensorflow/core/data/root_dataset.cc:266] Optimization loop failed: CANCELLED: Operation was cancelled\n"
     ]
    },
    {
     "name": "stdout",
     "output_type": "stream",
     "text": [
      "113/113 [==============================] - 0s 3ms/step - loss: 0.1472 - accuracy: 0.9549 - val_loss: 1.0125 - val_accuracy: 0.6945\n",
      "Epoch 10/25\n",
      "113/113 [==============================] - 0s 3ms/step - loss: 0.1349 - accuracy: 0.9593 - val_loss: 1.0659 - val_accuracy: 0.6744\n",
      "Epoch 11/25\n",
      "113/113 [==============================] - 0s 3ms/step - loss: 0.1099 - accuracy: 0.9676 - val_loss: 1.1300 - val_accuracy: 0.6772\n",
      "Epoch 12/25\n",
      " 68/113 [=================>............] - ETA: 0s - loss: 0.0922 - accuracy: 0.9738"
     ]
    },
    {
     "name": "stderr",
     "output_type": "stream",
     "text": [
      "2022-11-27 22:08:31.816128: W tensorflow/core/data/root_dataset.cc:266] Optimization loop failed: CANCELLED: Operation was cancelled\n"
     ]
    },
    {
     "name": "stdout",
     "output_type": "stream",
     "text": [
      "113/113 [==============================] - 0s 3ms/step - loss: 0.1016 - accuracy: 0.9701 - val_loss: 1.1759 - val_accuracy: 0.6657\n",
      "Epoch 13/25\n",
      "113/113 [==============================] - 0s 2ms/step - loss: 0.0904 - accuracy: 0.9732 - val_loss: 1.2146 - val_accuracy: 0.6715\n",
      "Epoch 14/25\n",
      "113/113 [==============================] - 0s 3ms/step - loss: 0.0866 - accuracy: 0.9737 - val_loss: 1.2897 - val_accuracy: 0.6686\n",
      "Epoch 15/25\n",
      "113/113 [==============================] - 0s 2ms/step - loss: 0.0871 - accuracy: 0.9745 - val_loss: 1.2810 - val_accuracy: 0.6686\n",
      "Epoch 16/25\n",
      " 52/113 [============>.................] - ETA: 0s - loss: 0.0585 - accuracy: 0.9826"
     ]
    },
    {
     "name": "stderr",
     "output_type": "stream",
     "text": [
      "2022-11-27 22:08:33.302260: W tensorflow/core/data/root_dataset.cc:266] Optimization loop failed: CANCELLED: Operation was cancelled\n"
     ]
    },
    {
     "name": "stdout",
     "output_type": "stream",
     "text": [
      "113/113 [==============================] - 0s 4ms/step - loss: 0.0788 - accuracy: 0.9756 - val_loss: 1.3693 - val_accuracy: 0.6772\n",
      "Epoch 17/25\n",
      "113/113 [==============================] - 0s 3ms/step - loss: 0.0792 - accuracy: 0.9745 - val_loss: 1.3584 - val_accuracy: 0.6657\n",
      "Epoch 18/25\n",
      "113/113 [==============================] - 0s 4ms/step - loss: 0.0751 - accuracy: 0.9765 - val_loss: 1.3461 - val_accuracy: 0.6715\n",
      "Epoch 19/25\n",
      "113/113 [==============================] - 0s 3ms/step - loss: 0.0658 - accuracy: 0.9770 - val_loss: 1.3957 - val_accuracy: 0.6744\n",
      "Epoch 20/25\n",
      "113/113 [==============================] - 0s 3ms/step - loss: 0.0677 - accuracy: 0.9776 - val_loss: 1.4150 - val_accuracy: 0.6657\n",
      "Epoch 21/25\n",
      "113/113 [==============================] - 0s 2ms/step - loss: 0.0632 - accuracy: 0.9773 - val_loss: 1.4242 - val_accuracy: 0.6744\n",
      "Epoch 22/25\n",
      "113/113 [==============================] - 0s 3ms/step - loss: 0.0625 - accuracy: 0.9803 - val_loss: 1.4578 - val_accuracy: 0.6772\n",
      "Epoch 23/25\n",
      " 16/113 [===>..........................] - ETA: 1s - loss: 0.0668 - accuracy: 0.9668"
     ]
    },
    {
     "name": "stderr",
     "output_type": "stream",
     "text": [
      "2022-11-27 22:08:36.514452: W tensorflow/core/data/root_dataset.cc:266] Optimization loop failed: CANCELLED: Operation was cancelled\n"
     ]
    },
    {
     "name": "stdout",
     "output_type": "stream",
     "text": [
      "113/113 [==============================] - 1s 4ms/step - loss: 0.0587 - accuracy: 0.9773 - val_loss: 1.4612 - val_accuracy: 0.6715\n",
      "Epoch 24/25\n",
      "113/113 [==============================] - 0s 2ms/step - loss: 0.0557 - accuracy: 0.9790 - val_loss: 1.4827 - val_accuracy: 0.6686\n",
      "Epoch 25/25\n",
      "113/113 [==============================] - 0s 2ms/step - loss: 0.0537 - accuracy: 0.9798 - val_loss: 1.5268 - val_accuracy: 0.6715\n",
      "training finish\n"
     ]
    }
   ],
   "source": [
    "from keras.callbacks import CSVLogger\n",
    "\n",
    "csv_logger = CSVLogger('logs/training_log.csv')\n",
    "\n",
    "# training setting\n",
    "epochs = 25\n",
    "batch_size = 32\n",
    "\n",
    "# training!\n",
    "history = model.fit(X_train, y_train, \n",
    "                    epochs=epochs, \n",
    "                    batch_size=batch_size, \n",
    "                    callbacks=[csv_logger],\n",
    "                    validation_data = (X_test, y_test))\n",
    "print('training finish')"
   ]
  },
  {
   "cell_type": "code",
   "execution_count": 13,
   "metadata": {},
   "outputs": [
    {
     "name": "stdout",
     "output_type": "stream",
     "text": [
      "3/3 [==============================] - 0s 6ms/step\n",
      "testing accuracy: 0.67\n"
     ]
    },
    {
     "data": {
      "text/html": [
       "<div>\n",
       "<style scoped>\n",
       "    .dataframe tbody tr th:only-of-type {\n",
       "        vertical-align: middle;\n",
       "    }\n",
       "\n",
       "    .dataframe tbody tr th {\n",
       "        vertical-align: top;\n",
       "    }\n",
       "\n",
       "    .dataframe thead th {\n",
       "        text-align: right;\n",
       "    }\n",
       "</style>\n",
       "<table border=\"1\" class=\"dataframe\">\n",
       "  <thead>\n",
       "    <tr style=\"text-align: right;\">\n",
       "      <th></th>\n",
       "      <th>epoch</th>\n",
       "      <th>accuracy</th>\n",
       "      <th>loss</th>\n",
       "      <th>val_accuracy</th>\n",
       "      <th>val_loss</th>\n",
       "    </tr>\n",
       "  </thead>\n",
       "  <tbody>\n",
       "    <tr>\n",
       "      <th>0</th>\n",
       "      <td>0</td>\n",
       "      <td>0.350401</td>\n",
       "      <td>1.334527</td>\n",
       "      <td>0.389049</td>\n",
       "      <td>1.301444</td>\n",
       "    </tr>\n",
       "    <tr>\n",
       "      <th>1</th>\n",
       "      <td>1</td>\n",
       "      <td>0.613341</td>\n",
       "      <td>1.024797</td>\n",
       "      <td>0.651297</td>\n",
       "      <td>0.925156</td>\n",
       "    </tr>\n",
       "    <tr>\n",
       "      <th>2</th>\n",
       "      <td>2</td>\n",
       "      <td>0.787434</td>\n",
       "      <td>0.597138</td>\n",
       "      <td>0.685879</td>\n",
       "      <td>0.782068</td>\n",
       "    </tr>\n",
       "    <tr>\n",
       "      <th>3</th>\n",
       "      <td>3</td>\n",
       "      <td>0.849433</td>\n",
       "      <td>0.418128</td>\n",
       "      <td>0.682997</td>\n",
       "      <td>0.762901</td>\n",
       "    </tr>\n",
       "    <tr>\n",
       "      <th>4</th>\n",
       "      <td>4</td>\n",
       "      <td>0.890673</td>\n",
       "      <td>0.315129</td>\n",
       "      <td>0.703170</td>\n",
       "      <td>0.812767</td>\n",
       "    </tr>\n",
       "    <tr>\n",
       "      <th>5</th>\n",
       "      <td>5</td>\n",
       "      <td>0.907003</td>\n",
       "      <td>0.256525</td>\n",
       "      <td>0.685879</td>\n",
       "      <td>0.855472</td>\n",
       "    </tr>\n",
       "    <tr>\n",
       "      <th>6</th>\n",
       "      <td>6</td>\n",
       "      <td>0.928591</td>\n",
       "      <td>0.210632</td>\n",
       "      <td>0.691643</td>\n",
       "      <td>0.919327</td>\n",
       "    </tr>\n",
       "    <tr>\n",
       "      <th>7</th>\n",
       "      <td>7</td>\n",
       "      <td>0.944644</td>\n",
       "      <td>0.171786</td>\n",
       "      <td>0.685879</td>\n",
       "      <td>0.981355</td>\n",
       "    </tr>\n",
       "    <tr>\n",
       "      <th>8</th>\n",
       "      <td>8</td>\n",
       "      <td>0.954885</td>\n",
       "      <td>0.147160</td>\n",
       "      <td>0.694524</td>\n",
       "      <td>1.012488</td>\n",
       "    </tr>\n",
       "    <tr>\n",
       "      <th>9</th>\n",
       "      <td>9</td>\n",
       "      <td>0.959314</td>\n",
       "      <td>0.134907</td>\n",
       "      <td>0.674352</td>\n",
       "      <td>1.065897</td>\n",
       "    </tr>\n",
       "    <tr>\n",
       "      <th>10</th>\n",
       "      <td>10</td>\n",
       "      <td>0.967617</td>\n",
       "      <td>0.109937</td>\n",
       "      <td>0.677233</td>\n",
       "      <td>1.130000</td>\n",
       "    </tr>\n",
       "    <tr>\n",
       "      <th>11</th>\n",
       "      <td>11</td>\n",
       "      <td>0.970108</td>\n",
       "      <td>0.101588</td>\n",
       "      <td>0.665706</td>\n",
       "      <td>1.175924</td>\n",
       "    </tr>\n",
       "    <tr>\n",
       "      <th>12</th>\n",
       "      <td>12</td>\n",
       "      <td>0.973153</td>\n",
       "      <td>0.090414</td>\n",
       "      <td>0.671470</td>\n",
       "      <td>1.214627</td>\n",
       "    </tr>\n",
       "    <tr>\n",
       "      <th>13</th>\n",
       "      <td>13</td>\n",
       "      <td>0.973706</td>\n",
       "      <td>0.086628</td>\n",
       "      <td>0.668588</td>\n",
       "      <td>1.289721</td>\n",
       "    </tr>\n",
       "    <tr>\n",
       "      <th>14</th>\n",
       "      <td>14</td>\n",
       "      <td>0.974536</td>\n",
       "      <td>0.087078</td>\n",
       "      <td>0.668588</td>\n",
       "      <td>1.281037</td>\n",
       "    </tr>\n",
       "    <tr>\n",
       "      <th>15</th>\n",
       "      <td>15</td>\n",
       "      <td>0.975644</td>\n",
       "      <td>0.078833</td>\n",
       "      <td>0.677233</td>\n",
       "      <td>1.369330</td>\n",
       "    </tr>\n",
       "    <tr>\n",
       "      <th>16</th>\n",
       "      <td>16</td>\n",
       "      <td>0.974536</td>\n",
       "      <td>0.079211</td>\n",
       "      <td>0.665706</td>\n",
       "      <td>1.358409</td>\n",
       "    </tr>\n",
       "    <tr>\n",
       "      <th>17</th>\n",
       "      <td>17</td>\n",
       "      <td>0.976474</td>\n",
       "      <td>0.075056</td>\n",
       "      <td>0.671470</td>\n",
       "      <td>1.346058</td>\n",
       "    </tr>\n",
       "    <tr>\n",
       "      <th>18</th>\n",
       "      <td>18</td>\n",
       "      <td>0.977027</td>\n",
       "      <td>0.065831</td>\n",
       "      <td>0.674352</td>\n",
       "      <td>1.395682</td>\n",
       "    </tr>\n",
       "    <tr>\n",
       "      <th>19</th>\n",
       "      <td>19</td>\n",
       "      <td>0.977581</td>\n",
       "      <td>0.067738</td>\n",
       "      <td>0.665706</td>\n",
       "      <td>1.414959</td>\n",
       "    </tr>\n",
       "    <tr>\n",
       "      <th>20</th>\n",
       "      <td>20</td>\n",
       "      <td>0.977304</td>\n",
       "      <td>0.063248</td>\n",
       "      <td>0.674352</td>\n",
       "      <td>1.424154</td>\n",
       "    </tr>\n",
       "    <tr>\n",
       "      <th>21</th>\n",
       "      <td>21</td>\n",
       "      <td>0.980349</td>\n",
       "      <td>0.062545</td>\n",
       "      <td>0.677233</td>\n",
       "      <td>1.457816</td>\n",
       "    </tr>\n",
       "    <tr>\n",
       "      <th>22</th>\n",
       "      <td>22</td>\n",
       "      <td>0.977304</td>\n",
       "      <td>0.058722</td>\n",
       "      <td>0.671470</td>\n",
       "      <td>1.461240</td>\n",
       "    </tr>\n",
       "    <tr>\n",
       "      <th>23</th>\n",
       "      <td>23</td>\n",
       "      <td>0.978965</td>\n",
       "      <td>0.055750</td>\n",
       "      <td>0.668588</td>\n",
       "      <td>1.482694</td>\n",
       "    </tr>\n",
       "    <tr>\n",
       "      <th>24</th>\n",
       "      <td>24</td>\n",
       "      <td>0.979795</td>\n",
       "      <td>0.053741</td>\n",
       "      <td>0.671470</td>\n",
       "      <td>1.526772</td>\n",
       "    </tr>\n",
       "  </tbody>\n",
       "</table>\n",
       "</div>"
      ],
      "text/plain": [
       "    epoch  accuracy      loss  val_accuracy  val_loss\n",
       "0       0  0.350401  1.334527      0.389049  1.301444\n",
       "1       1  0.613341  1.024797      0.651297  0.925156\n",
       "2       2  0.787434  0.597138      0.685879  0.782068\n",
       "3       3  0.849433  0.418128      0.682997  0.762901\n",
       "4       4  0.890673  0.315129      0.703170  0.812767\n",
       "5       5  0.907003  0.256525      0.685879  0.855472\n",
       "6       6  0.928591  0.210632      0.691643  0.919327\n",
       "7       7  0.944644  0.171786      0.685879  0.981355\n",
       "8       8  0.954885  0.147160      0.694524  1.012488\n",
       "9       9  0.959314  0.134907      0.674352  1.065897\n",
       "10     10  0.967617  0.109937      0.677233  1.130000\n",
       "11     11  0.970108  0.101588      0.665706  1.175924\n",
       "12     12  0.973153  0.090414      0.671470  1.214627\n",
       "13     13  0.973706  0.086628      0.668588  1.289721\n",
       "14     14  0.974536  0.087078      0.668588  1.281037\n",
       "15     15  0.975644  0.078833      0.677233  1.369330\n",
       "16     16  0.974536  0.079211      0.665706  1.358409\n",
       "17     17  0.976474  0.075056      0.671470  1.346058\n",
       "18     18  0.977027  0.065831      0.674352  1.395682\n",
       "19     19  0.977581  0.067738      0.665706  1.414959\n",
       "20     20  0.977304  0.063248      0.674352  1.424154\n",
       "21     21  0.980349  0.062545      0.677233  1.457816\n",
       "22     22  0.977304  0.058722      0.671470  1.461240\n",
       "23     23  0.978965  0.055750      0.668588  1.482694\n",
       "24     24  0.979795  0.053741      0.671470  1.526772"
      ]
     },
     "execution_count": 13,
     "metadata": {},
     "output_type": "execute_result"
    }
   ],
   "source": [
    "## predict\n",
    "pred_result = model.predict(X_test, batch_size=128)\n",
    "pred_result[:5]\n",
    "\n",
    "pred_result = label_decode(label_encoder, pred_result)\n",
    "pred_result[:5]\n",
    "\n",
    "from sklearn.metrics import accuracy_score\n",
    "\n",
    "print('testing accuracy: {}'.format(round(accuracy_score(label_decode(label_encoder, y_test), pred_result), 2)))\n",
    "\n",
    "#Let's take a look at the training log\n",
    "training_log = pd.DataFrame()\n",
    "training_log = pd.read_csv(\"logs/training_log.csv\")\n",
    "training_log"
   ]
  },
  {
   "cell_type": "code",
   "execution_count": 14,
   "metadata": {
    "scrolled": false
   },
   "outputs": [
    {
     "data": {
      "image/png": "[encoded data removed]",
      "text/plain": [
       "<Figure size 1000x500 with 2 Axes>"
      ]
     },
     "metadata": {},
     "output_type": "display_data"
    }
   ],
   "source": [
    "import numpy as np\n",
    "import matplotlib.pyplot as plt\n",
    " \n",
    "fig, (ax1, ax2) = plt.subplots(1, 2, figsize=(10, 5))\n",
    " \n",
    "# Plotting the Graph\n",
    "line1, = ax1.plot(training_log['epoch'], training_log['accuracy'])\n",
    "line2, = ax1.plot(training_log['epoch'], training_log['val_accuracy'])\n",
    "ax1.set_title(\"Training accuracy per epoch\")\n",
    "ax1.set(xlabel=\"Epochs\", ylabel=\"Accuracy\")\n",
    "ax1.legend([line1, line2], [\"train_accuracy\", \"val_accuracy\"])\n",
    "\n",
    "line3, = ax2.plot(training_log['epoch'], training_log['loss'])\n",
    "line4, = ax2.plot(training_log['epoch'], training_log['val_loss'])\n",
    "ax2.set_title(\"Training loss per epoch\")\n",
    "ax2.set(xlabel=\"Epochs\", ylabel=\"Loss\")\n",
    "ax2.legend([line3, line4], [\"train_loss\", \"val_loss\"])\n",
    "\n",
    "plt.show()"
   ]
  },
  {
   "cell_type": "markdown",
   "metadata": {},
   "source": [
    "From picture we can see that the training accuracy per epochrise sharply at beginning, and convergence around 0.95. But the validation accuracy is at 0.7. The training loss per epoch is lower and lower per epoch, but the validation loss is higher after around 3 epochs. So this is clearly overfitting. In general what you want to do is choose more complex model, but in this case ,from example 5 we can see that BOW is not a good feature to determine emotions. "
   ]
  },
  {
   "cell_type": "markdown",
   "metadata": {},
   "source": [
    "### >>> Exercise 7 (Take home):\n",
    "Now, we have the word vectors, but our input data is a sequence of words (or say sentence). How can we utilize these \"word\" vectors to represent the sentence data and train our model?"
   ]
  },
  {
   "cell_type": "code",
   "execution_count": 15,
   "metadata": {},
   "outputs": [
    {
     "name": "stdout",
     "output_type": "stream",
     "text": [
      "10 most simliar words from this avaraged vector.\n",
      "[('irl', 0.9632308483123779), ('sorry', 0.9628669619560242), ('now', 0.9624781012535095), ('still', 0.9536698460578918), ('venom', 0.9514809846878052), ('exact', 0.9509356021881104), ('320', 0.9506611227989197), ('gon', 0.9484785795211792), ('havent', 0.9467341303825378), ('faint', 0.9461514949798584)]\n",
      "10 most simliar words from this avaraged vector.\n",
      "[('horrid', 0.9951730966567993), ('Very', 0.9938445091247559), ('potential', 0.992762565612793), ('levity', 0.9926843047142029), ('Happy', 0.991764485836029), ('chavs', 0.9915977716445923), ('info', 0.9914928674697876), ('played', 0.9914575815200806), ('Old', 0.9910311102867126), ('slip', 0.9903839230537415)]\n",
      "10 most simliar words from this avaraged vector.\n",
      "[('exact', 0.9627048969268799), ('venom', 0.961472749710083), ('sorry', 0.9595969319343567), ('irl', 0.9586034417152405), ('somebody', 0.9584000706672668), ('still', 0.9568207859992981), ('elated', 0.9545784592628479), ('sure', 0.9535430669784546), ('confident', 0.9526553750038147), ('But', 0.9507573246955872)]\n",
      "10 most simliar words from this avaraged vector.\n",
      "[('sorry', 0.9749792218208313), ('still', 0.9739521741867065), ('havent', 0.9720548391342163), ('laugh', 0.9708971977233887), ('somebody', 0.9670494794845581), ('today', 0.9655765295028687), ('ask', 0.9633315801620483), ('surprised', 0.9632753133773804), ('faint', 0.9628860354423523), ('sure', 0.9626103639602661)]\n"
     ]
    }
   ],
   "source": [
    "### This code will avarage all word vector in a sentence\n",
    "import gensim\n",
    "import warnings\n",
    "import nltk\n",
    "from gensim.models import Word2Vec\n",
    "\n",
    "warnings.filterwarnings('ignore')\n",
    "\n",
    "## the input type\n",
    "train_df['text_tokenized'] = train_df['text'].apply(lambda x: nltk.word_tokenize(x))\n",
    "train_df[['id', 'text', 'text_tokenized']].head()\n",
    "training_corpus = train_df['text_tokenized'].values\n",
    "\n",
    "## setting\n",
    "vector_dim = 100\n",
    "window_size = 5\n",
    "min_count = 1\n",
    "training_epochs = 20\n",
    "\n",
    "## model\n",
    "word2vec_model = Word2Vec(sentences=training_corpus, \n",
    "                          vector_size=vector_dim, window=window_size, \n",
    "                          min_count=min_count, epochs=training_epochs)\n",
    "\n",
    "# Get the avarage vector of the sentence\n",
    "def sentence_to_vector(sentence):\n",
    "    ans = np.zeros(vector_dim)\n",
    "    list = nltk.word_tokenize(sentence)\n",
    "    for word in list:\n",
    "        ans += word2vec_model.wv[word]\n",
    "    \n",
    "    return ans\n",
    "\n",
    "sen1 = \"I am happy\"\n",
    "vec1 = sentence_to_vector(sen1)\n",
    "print(\"10 most simliar words from this avaraged vector.\")\n",
    "print(word2vec_model.wv.most_similar(positive=vec1, topn=10))\n",
    "\n",
    "sen2 = \"Happy course\"\n",
    "vec2 = sentence_to_vector(sen2)\n",
    "print(\"10 most simliar words from this avaraged vector.\")\n",
    "print(word2vec_model.wv.most_similar(positive=vec2, topn=10))\n",
    "\n",
    "sen3 = \"I am happy that I attend this happy course\"\n",
    "vec3 = sentence_to_vector(sen3)\n",
    "print(\"10 most simliar words from this avaraged vector.\")\n",
    "print(word2vec_model.wv.most_similar(positive=vec3, topn=10))\n",
    "\n",
    "sen4 = \"I am happy.\"\n",
    "vec4 = sentence_to_vector(sen4)\n",
    "print(\"10 most simliar words from this avaraged vector.\")\n",
    "print(word2vec_model.wv.most_similar(positive=vec4, topn=10))"
   ]
  },
  {
   "cell_type": "markdown",
   "metadata": {},
   "source": [
    "The simplest method of transform a sentence into the word vector is to avarage out all words into vector. I have implement this method at above cell. However this method is liable to biased toward high frequency words even punctuation Marks. There are some improved way of doing sentence to vector, like multiply result vector with TF-IDF feature, avoid high frequency word when inputting sentence as if you are using google search."
   ]
  },
  {
   "cell_type": "markdown",
   "metadata": {},
   "source": [
    "### >>> Exercise 8 (Take home):\n",
    "Generate a t-SNE visualization to show the 15 words most related to the words \"angry\", \"happy\", \"sad\", \"fear\" (60 words total)."
   ]
  },
  {
   "cell_type": "code",
   "execution_count": 16,
   "metadata": {},
   "outputs": [
    {
     "name": "stdout",
     "output_type": "stream",
     "text": [
      "load ok\n"
     ]
    },
    {
     "data": {
      "text/plain": [
       "[('glad', 0.7408890724182129),\n",
       " ('pleased', 0.6632170677185059),\n",
       " ('ecstatic', 0.6626912355422974),\n",
       " ('overjoyed', 0.6599286794662476),\n",
       " ('thrilled', 0.6514049172401428),\n",
       " ('satisfied', 0.6437949538230896),\n",
       " ('proud', 0.636042058467865),\n",
       " ('delighted', 0.6272379159927368),\n",
       " ('disappointed', 0.6269949674606323),\n",
       " ('excited', 0.6247665882110596)]"
      ]
     },
     "execution_count": 16,
     "metadata": {},
     "output_type": "execute_result"
    }
   ],
   "source": [
    "from gensim.models import KeyedVectors\n",
    "\n",
    "## Load pretrained word2vec model\n",
    "## Note: this model is very huge, this will take some time ...\n",
    "model_path = \"data/GoogleNews-vectors-negative300.bin.gz\"\n",
    "w2v_google_model = KeyedVectors.load_word2vec_format(model_path, binary=True)\n",
    "print('load ok')\n",
    "\n",
    "w2v_google_model.most_similar('happy', topn=10)"
   ]
  },
  {
   "cell_type": "code",
   "execution_count": 17,
   "metadata": {},
   "outputs": [
    {
     "name": "stdout",
     "output_type": "stream",
     "text": [
      "happy_words:  ['angry', 'irate', 'enraged', 'indignant', 'incensed', 'annoyed', 'agitated', 'frustrated', 'furious', 'unhappy', 'outraged', 'livid', 'irritated', 'exasperated', 'angrier', 'Angry']\n",
      "angry_words:  ['happy', 'glad', 'pleased', 'ecstatic', 'overjoyed', 'thrilled', 'satisfied', 'proud', 'delighted', 'disappointed', 'excited', 'happier', 'Said_Hirschbeck', 'elated', 'thankful', 'unhappy']\n",
      "data_words:  ['sad', 'saddening', 'Sad', 'saddened', 'heartbreaking', 'disheartening', 'Meny_Friedman', 'parishioner_Pat_Patello', 'saddens_me', 'distressing', 'reminders_bobbing', 'Turkoman_Shiites', 'saddest', 'unfortunate', 'sorry', 'bittersweet']\n",
      "mining_words:  ['fear', 'fearful', 'fears', 'Fear', 'fearing', 'worry', 'dread', 'feared', 'anxiety', 'apprehension', 'afraid', 'worries', 'concern', 'distrust', 'worried', 'Fearful']\n",
      "\n",
      "target words: \n",
      "['angry', 'irate', 'enraged', 'indignant', 'incensed', 'annoyed', 'agitated', 'frustrated', 'furious', 'unhappy', 'outraged', 'livid', 'irritated', 'exasperated', 'angrier', 'Angry', 'happy', 'glad', 'pleased', 'ecstatic', 'overjoyed', 'thrilled', 'satisfied', 'proud', 'delighted', 'disappointed', 'excited', 'happier', 'Said_Hirschbeck', 'elated', 'thankful', 'unhappy', 'sad', 'saddening', 'Sad', 'saddened', 'heartbreaking', 'disheartening', 'Meny_Friedman', 'parishioner_Pat_Patello', 'saddens_me', 'distressing', 'reminders_bobbing', 'Turkoman_Shiites', 'saddest', 'unfortunate', 'sorry', 'bittersweet', 'fear', 'fearful', 'fears', 'Fear', 'fearing', 'worry', 'dread', 'feared', 'anxiety', 'apprehension', 'afraid', 'worries', 'concern', 'distrust', 'worried', 'Fearful']\n",
      "\n",
      "color list:\n",
      "['b', 'b', 'b', 'b', 'b', 'b', 'b', 'b', 'b', 'b', 'b', 'b', 'b', 'b', 'b', 'b', 'g', 'g', 'g', 'g', 'g', 'g', 'g', 'g', 'g', 'g', 'g', 'g', 'g', 'g', 'g', 'g', 'r', 'r', 'r', 'r', 'r', 'r', 'r', 'r', 'r', 'r', 'r', 'r', 'r', 'r', 'r', 'r', 'y', 'y', 'y', 'y', 'y', 'y', 'y', 'y', 'y', 'y', 'y', 'y', 'y', 'y', 'y', 'y']\n"
     ]
    }
   ],
   "source": [
    "# Target word list\n",
    "word_list = ['angry', 'happy', 'sad', 'fear']\n",
    "\n",
    "# Find first 15 simliar words for target words\n",
    "topn = 15\n",
    "happy_words = ['angry'] + [word_ for word_, sim_ in w2v_google_model.most_similar('angry', topn=topn)]\n",
    "angry_words = ['happy'] + [word_ for word_, sim_ in w2v_google_model.most_similar('happy', topn=topn)]        \n",
    "data_words = ['sad'] + [word_ for word_, sim_ in w2v_google_model.most_similar('sad', topn=topn)]        \n",
    "mining_words = ['fear'] + [word_ for word_, sim_ in w2v_google_model.most_similar('fear', topn=topn)]        \n",
    "\n",
    "print('happy_words: ', happy_words)\n",
    "print('angry_words: ', angry_words)\n",
    "print('data_words: ', data_words)\n",
    "print('mining_words: ', mining_words)\n",
    "\n",
    "target_words = happy_words + angry_words + data_words + mining_words\n",
    "print('\\ntarget words: ')\n",
    "print(target_words)\n",
    "\n",
    "print('\\ncolor list:')\n",
    "cn = topn + 1\n",
    "color = ['b'] * cn + ['g'] * cn + ['r'] * cn + ['y'] * cn\n",
    "print(color)"
   ]
  },
  {
   "cell_type": "code",
   "execution_count": 18,
   "metadata": {},
   "outputs": [
    {
     "data": {
      "image/png": "[encoded data removed]",
      "text/plain": [
       "<Figure size 862.5x862.5 with 1 Axes>"
      ]
     },
     "metadata": {},
     "output_type": "display_data"
    }
   ],
   "source": [
    "%matplotlib inline\n",
    "import matplotlib.pyplot as plt\n",
    "from sklearn.manifold import TSNE\n",
    "\n",
    "## w2v model\n",
    "model = w2v_google_model\n",
    "\n",
    "## prepare training word vectors\n",
    "size = 200\n",
    "target_size = len(target_words)\n",
    "all_word = list(model.index_to_key)\n",
    "word_train = target_words + all_word[:size]\n",
    "X_train = model[word_train]\n",
    "\n",
    "## t-SNE model\n",
    "tsne = TSNE(n_components=2, metric='cosine', random_state=28)\n",
    "\n",
    "## training\n",
    "X_tsne = tsne.fit_transform(X_train)\n",
    "\n",
    "## plot the result\n",
    "plt.figure(figsize=(7.5, 7.5), dpi=115)\n",
    "plt.scatter(X_tsne[:target_size, 0], X_tsne[:target_size, 1], c=color)\n",
    "for label, x, y in zip(target_words, X_tsne[:target_size, 0], X_tsne[:target_size, 1]):\n",
    "    plt.annotate(label, xy=(x,y), xytext=(0,0),  textcoords='offset points')\n",
    "plt.show()"
   ]
  },
  {
   "cell_type": "markdown",
   "metadata": {},
   "source": [
    "## Second Part\n",
    "Participate in the in-class Kaggle Competition regarding Emotion Recognition on Twitter by this link https://www.kaggle.com/t/2b0d14a829f340bc88d2660dc602d4bd."
   ]
  },
  {
   "cell_type": "markdown",
   "metadata": {},
   "source": [
    "### Report"
   ]
  },
  {
   "cell_type": "markdown",
   "metadata": {},
   "source": [
    "The model I used for tweets emotion identification is BERT (Bidirectional Encoder Representations from Transformers), BERT is the encoder of Transformer. Originally created and published in 2018 by Jacob Devlin and his colleagues from Google. BERT had state-of-the-art performance when doing natural language understanding tasks. Funny things is that Google leveraging BERT in its search engine for queries. One huge advantage of BERT comes from its unsupervised nature, it can train lots of data without labeling data at first, which is both time and cost expansive.\n",
    "In order to leverage the power of BERT, I use a pretrained version of BERT calls [BERTweet](https://github.com/VinAIResearch/BERTweet), BERTweet is pretrained by VinAIResearch on over 850 millions tweets based on the RoBERTa pre-training procedure and is the first public large-scale language model pre-trained for English Tweets.\n",
    "The decoder I used is simply two layers of NN with RELU and softmax layer for output. With cross entropy loss and adam optimizer with initial learning rate of 1e-5. The best result I get is 0.465 in public leaderboard which is about one-third on leaderboard. There are some improvement I can experiment but unable to do so listed below, due to the limitation of hardware and time. 1 epoch of about 600000 training tweets takes about 3 hours to train.\n",
    "\n",
    "1. I have flitered out comma and space of the tweets during training and inferencing, due to the reason of BERT's limited input of 128 characters and frequency of space is a lot. But maybe without these procedure, accuracy can be better.\n",
    "2. The training accuracy of 5 epoch training is 0.73, however the result on kaggle is only 0.465, maybe overfitting have happened, I should use more complex model such as RNN decoder or more layer of NN.\n",
    "3. Train with more samples of tweets, however my RAM is at limit with 600000 tweets during training.\n",
    "4. Train more epochs to see if the testing result on Kaggle is better or not.\n",
    "\n",
    "If fully optimized, I think BERTweet can get around the limitation accuracy of human. Because the tweets itself is not easy to recognize even by humans, there are some mixed emotions between words, and the emotion is subjective. The data is not always right about its label."
   ]
  },
  {
   "cell_type": "markdown",
   "metadata": {},
   "source": [
    "### BERT under training"
   ]
  },
  {
   "cell_type": "markdown",
   "metadata": {},
   "source": [
    "![training](img/bert_training.png)"
   ]
  },
  {
   "cell_type": "markdown",
   "metadata": {},
   "source": [
    "### Training script\n",
    "Note: The hardware usage of the project will be too high that kernel will be dead running. So I run the whole kaggle project with python script file on the server."
   ]
  },
  {
   "cell_type": "code",
   "execution_count": null,
   "metadata": {},
   "outputs": [],
   "source": [
    "import os\n",
    "import gc\n",
    "import tensorflow as tf\n",
    "from transformers import TFAutoModel\n",
    "from transformers import BertweetTokenizer\n",
    "from tqdm import tqdm\n",
    "from sklearn.preprocessing import LabelEncoder\n",
    "import numpy as np\n",
    "import pandas as pd\n",
    "import keras"
   ]
  },
  {
   "cell_type": "code",
   "execution_count": null,
   "metadata": {},
   "outputs": [],
   "source": [
    "### Check if GPU is available\n",
    "os.environ['TF_XLA_FLAGS'] = '--tf_xla_enable_xla_devices'\n",
    "print(\"Num GPUs Available: \", len(tf.config.list_physical_devices('GPU')))"
   ]
  },
  {
   "cell_type": "code",
   "execution_count": null,
   "metadata": {},
   "outputs": [],
   "source": [
    "### Load data identification\n",
    "data_identification = pd.read_csv(\"data/data_identification.csv\")\n",
    "\n",
    "### Load emotion of data\n",
    "emotion = pd.read_csv(\"data/emotion.csv\")\n",
    "\n",
    "### Tweets dataset\n",
    "tweets_DM = pd.read_json(\"data/tweets_DM.json\", lines=True, dtype=False)\n",
    "print(tweets_DM.shape)"
   ]
  },
  {
   "cell_type": "code",
   "execution_count": null,
   "metadata": {},
   "outputs": [],
   "source": [
    "### Get only tweets_id and text attribute\n",
    "tweets = tweets_DM._source\n",
    "tweets = pd.json_normalize(tweets)\n",
    "tweets = tweets.rename(columns={\"tweet.hashtags\":\"hashtags\", \"tweet.tweet_id\":\"tweet_id\", \"tweet.text\":\"text\"})\n",
    "tweets = tweets.drop([\"hashtags\"], axis=1)\n",
    "\n",
    "### Merge identification of data to tweets\n",
    "tweets = pd.merge(tweets, data_identification, on=\"tweet_id\", how=\"left\")"
   ]
  },
  {
   "cell_type": "code",
   "execution_count": null,
   "metadata": {},
   "outputs": [],
   "source": [
    "### Clear special symbol\n",
    "tweets['text'] = tweets['text'].str.replace(' ', '')\n",
    "tweets['text'] = tweets['text'].str.replace('#', '')"
   ]
  },
  {
   "cell_type": "code",
   "execution_count": null,
   "metadata": {
    "scrolled": true
   },
   "outputs": [],
   "source": [
    "### Get train and test dataset\n",
    "df_train = tweets[tweets[\"identification\"] == \"train\"]\n",
    "df_train = df_train.drop(columns=['identification'])\n",
    "df_train = pd.merge(df_train, emotion, on=\"tweet_id\")"
   ]
  },
  {
   "cell_type": "code",
   "execution_count": null,
   "metadata": {},
   "outputs": [],
   "source": [
    "### Check data corruption\n",
    "df_train.isnull().sum()\n",
    "df_train.duplicated().sum()\n",
    "df_train.groupby(['emotion']).count()['text']"
   ]
  },
  {
   "cell_type": "code",
   "execution_count": null,
   "metadata": {},
   "outputs": [],
   "source": [
    "### Save data to local storage\n",
    "df_train.to_pickle(\"data/df_train.pkl\")"
   ]
  },
  {
   "cell_type": "code",
   "execution_count": null,
   "metadata": {},
   "outputs": [],
   "source": [
    "### Samples of each categories\n",
    "### This is almost my limitation, if too large my ram will be out of space\n",
    "targ = int(70000)\n",
    "\n",
    "# Form new balanced training dataset\n",
    "df_anger = df_train[df_train['emotion'] == 'anger']\n",
    "df_anticipation = df_train[df_train['emotion'] == 'anticipation'].sample(targ)\n",
    "df_disgust = df_train[df_train['emotion'] == 'disgust'].sample(targ)\n",
    "df_fear = df_train[df_train['emotion'] == 'fear']\n",
    "df_joy = df_train[df_train['emotion'] == 'joy'].sample(targ)\n",
    "df_sadness = df_train[df_train['emotion'] == 'sadness'].sample(targ)\n",
    "df_surprise = df_train[df_train['emotion'] == 'surprise']\n",
    "df_trust = df_train[df_train['emotion'] == 'trust'].sample(targ)\n",
    "df_train_balanced = pd.concat([df_anger, df_anticipation, df_disgust, df_fear, df_joy, df_sadness, df_surprise, df_trust], ignore_index=True)"
   ]
  },
  {
   "cell_type": "code",
   "execution_count": null,
   "metadata": {},
   "outputs": [],
   "source": [
    "# Clean up memory to prevent crash\n",
    "del df_anger\n",
    "del df_anticipation\n",
    "del df_disgust\n",
    "del df_fear\n",
    "del df_joy\n",
    "del df_sadness\n",
    "del df_surprise\n",
    "del df_trust\n",
    "del df_train\n",
    "del targ\n",
    "del emotion\n",
    "del tweets\n",
    "del data_identification\n",
    "del tweets_DM"
   ]
  },
  {
   "cell_type": "code",
   "execution_count": null,
   "metadata": {},
   "outputs": [],
   "source": [
    "# The length of each tweets to inference, rest will be truncated.\n",
    "seq_len = 128\n",
    "num_samples = len(df_train_balanced)\n",
    "print(num_samples)"
   ]
  },
  {
   "cell_type": "code",
   "execution_count": null,
   "metadata": {},
   "outputs": [],
   "source": [
    "# Collect garbage to free up some ram\n",
    "gc.collect()"
   ]
  },
  {
   "cell_type": "code",
   "execution_count": null,
   "metadata": {},
   "outputs": [],
   "source": [
    "# Note: From now on, the hardware usage will be too high that kernel will be dead running this cell and below.\n",
    "#       So I run the whole kaggle project with python script file on the server.\n",
    "# Initialize tokenizer\n",
    "tokenizer = BertweetTokenizer.from_pretrained('vinai/bertweet-base', nomralization=True)\n",
    "\n",
    "# Tokenize the tweets and returning Numpy tensors\n",
    "tokens = tokenizer(df_train_balanced['text'].tolist(), max_length=seq_len, truncation=True,\n",
    "                   padding='max_length', add_special_tokens=True,\n",
    "                   return_tensors='tf')"
   ]
  },
  {
   "cell_type": "code",
   "execution_count": null,
   "metadata": {},
   "outputs": [],
   "source": [
    "# Get required input for a bert model, input ids, token type id attention masks\n",
    "tokens.keys()"
   ]
  },
  {
   "cell_type": "code",
   "execution_count": null,
   "metadata": {},
   "outputs": [],
   "source": [
    "# Need to transform into tensorflow tensor type\n",
    "Xids = tokens['input_ids']\n",
    "Xmask = tokens['attention_mask']\n",
    "Xtoktype = tokens['token_type_ids']\n",
    "Xids = tf.cast(Xids, 'float64')\n",
    "Xmask = tf.cast(Xmask, 'float64')\n",
    "Xtoktype = tf.cast(Xtoktype, 'float64')\n",
    "del tokens"
   ]
  },
  {
   "cell_type": "code",
   "execution_count": null,
   "metadata": {},
   "outputs": [],
   "source": [
    "# Extrace and one hot encode the labels\n",
    "arr = df_train_balanced['emotion']\n",
    "le = LabelEncoder()\n",
    "arr = le.fit_transform(arr)\n",
    "print(le.classes_)\n",
    "labels = np.zeros((num_samples, arr.max()+1))\n",
    "print(labels.shape)\n",
    "labels[np.arange(num_samples), arr] = 1\n",
    "print(labels[100])"
   ]
  },
  {
   "cell_type": "code",
   "execution_count": null,
   "metadata": {},
   "outputs": [],
   "source": [
    "# Transform ids, masks, labels into a tensorflow dataset type\n",
    "dataset = tf.data.Dataset.from_tensor_slices((Xids, Xmask, labels))\n",
    "\n",
    "def map_func(input_ids, masks, labels):\n",
    "    # we convert our three-item tuple into a two-item tuple where the input item is a dictionary\n",
    "    return {'input_ids': input_ids, 'attention_mask': masks}, labels\n",
    "\n",
    "# Then we use the dataset map method to apply this transformation\n",
    "dataset = dataset.map(map_func)\n",
    "print(dataset.take(1))"
   ]
  },
  {
   "cell_type": "code",
   "execution_count": null,
   "metadata": {},
   "outputs": [],
   "source": [
    "# Set batch size and shuffle data\n",
    "batch_size = 16\n",
    "dataset = dataset.shuffle(labels.shape[0]).batch(batch_size, drop_remainder=True)\n",
    "print(dataset.take(1))\n",
    "\n",
    "# Do train-val split\n",
    "split = 0.9\n",
    "# we need to calculate how many batches must be taken to create 90% training set\n",
    "size = int((Xids.shape[0] / batch_size) * split)\n",
    "print(size)\n",
    "train_ds = dataset.take(size)\n",
    "val_ds = dataset.skip(size)\n",
    "\n",
    "# Free up memory\n",
    "del dataset"
   ]
  },
  {
   "cell_type": "code",
   "execution_count": null,
   "metadata": {},
   "outputs": [],
   "source": [
    "# Save arranged data\n",
    "tf.data.experimental.save(train_ds, 'data/train_ds')\n",
    "tf.data.experimental.save(val_ds, 'data/val_ds')"
   ]
  },
  {
   "cell_type": "code",
   "execution_count": null,
   "metadata": {},
   "outputs": [],
   "source": [
    "# Extrace and one hot encode the labels\n",
    "import keras\n",
    "from sklearn.preprocessing import LabelEncoder\n",
    "arr = df_train_balanced['emotion']\n",
    "le = LabelEncoder()\n",
    "arr = le.fit_transform(arr)\n",
    "labels = np.zeros((num_samples, arr.max()+1))\n",
    "labels.shape"
   ]
  },
  {
   "cell_type": "code",
   "execution_count": null,
   "metadata": {},
   "outputs": [],
   "source": [
    "# Save arranged data\n",
    "tf.data.experimental.save(train_ds, 'data/train_ds')\n",
    "tf.data.experimental.save(val_ds, 'data/val_ds')"
   ]
  },
  {
   "cell_type": "code",
   "execution_count": null,
   "metadata": {},
   "outputs": [],
   "source": [
    "# Load pretrained BERTtweets model\n",
    "bert = TFAutoModel.from_pretrained('vinai/bertweet-base')\n",
    "bert.summary()"
   ]
  },
  {
   "cell_type": "code",
   "execution_count": null,
   "metadata": {},
   "outputs": [],
   "source": [
    "# Create model\n",
    "# Two input layers, we ensure layer name variables match to dictionary keys in TF dataset\n",
    "input_ids = tf.keras.layers.Input(shape=(seq_len,), name='input_ids', dtype='int32')\n",
    "mask = tf.keras.layers.Input(shape=(seq_len,), name='attention_mask', dtype='int32')\n",
    "toktypeid = tf.keras.layers.Input(shape=(seq_len,), name='token_type_ids', dtype='int32')\n",
    "# Access final activations (alread max-pooled) [1]\n",
    "embeddings = bert.roberta(input_ids, attention_mask=mask)[1] \n",
    "\n",
    "# Convert bert embeddings into 5 output classes\n",
    "x = tf.keras.layers.Dense(2048, activation='relu')(embeddings)\n",
    "x1 = tf.keras.layers.Dropout(0.2)(x)\n",
    "x2 = tf.keras.layers.Dense(64, activation='relu')(x1)\n",
    "x3 = tf.keras.layers.Dropout(0.2)(x2)\n",
    "y = tf.keras.layers.Dense(8, activation='softmax', name='outputs')(x)\n",
    "\n",
    "# Initialize model\n",
    "model = tf.keras.Model(inputs=[input_ids, toktypeid, mask], outputs=y)\n",
    "model = tf.keras.Model(inputs=[input_ids, mask], outputs=y)\n",
    "\n",
    "element_spec = ({'input_ids': tf.TensorSpec(shape=(16, seq_len), dtype=tf.float64, name=None),\n",
    "                 'attention_mask': tf.TensorSpec(shape=(16, seq_len), dtype=tf.float64, name=None)},\n",
    "                 # 'token_type_ids': tf.TensorSpec(shape=(16, seq_len), dtype=tf.float64, name=None)},\n",
    "                tf.TensorSpec(shape=(16, 8), dtype=tf.float64, name=None))\n",
    "\n",
    "# Load the training and validation sets\n",
    "train_ds = tf.data.experimental.load('data/train_ds', element_spec=element_spec)\n",
    "val_ds = tf.data.experimental.load('data/val_ds', element_spec=element_spec)\n",
    "print(train_ds)\n",
    "\n",
    "# Optimizers to the model\n",
    "optimizer = tf.keras.optimizers.legacy.Adam(learning_rate=1e-5, decay=1e-6)\n",
    "loss = tf.keras.losses.CategoricalCrossentropy()\n",
    "acc = tf.keras.metrics.CategoricalAccuracy('accuracy')\n",
    "\n",
    "# Compile the model\n",
    "model.compile(optimizer=optimizer, loss=loss, metrics=[acc])"
   ]
  },
  {
   "cell_type": "code",
   "execution_count": null,
   "metadata": {},
   "outputs": [],
   "source": [
    "# Training\n",
    "# Note: 1 epoch will run about 180 mins with RTX2070S card\n",
    "history = model.fit(\n",
    "    train_ds,\n",
    "    validation_data=val_ds,\n",
    "    epochs=5,\n",
    "    shuffle=True\n",
    ")\n",
    "\n",
    "# Save model\n",
    "model.save('DM_model_3')"
   ]
  },
  {
   "cell_type": "markdown",
   "metadata": {},
   "source": [
    "### Inference script"
   ]
  },
  {
   "cell_type": "code",
   "execution_count": null,
   "metadata": {},
   "outputs": [],
   "source": [
    "import keras\n",
    "import os\n",
    "import tensorflow as tf\n",
    "from transformers import BertweetTokenizer\n",
    "from tqdm import tqdm\n",
    "import numpy as np\n",
    "import pandas as pd\n",
    "\n",
    "### Check if GPU is available\n",
    "os.environ['TF_XLA_FLAGS'] = '--tf_xla_enable_xla_devices'\n",
    "print(\"Num GPUs Available: \", len(tf.config.list_physical_devices('GPU')))\n",
    "\n",
    "### Load data id\n",
    "data_identification = pd.read_csv(\"data/data_identification.csv\")\n",
    "\n",
    "### Load tweets dataset\n",
    "tweets_DM = pd.read_json(\"data/tweets_DM.json\", lines=True, dtype=False)\n",
    "tweets = tweets_DM._source\n",
    "tweets = pd.json_normalize(tweets)\n",
    "tweets = tweets.rename(columns={\"tweet.hashtags\":\"hashtags\", \"tweet.tweet_id\":\"tweet_id\", \"tweet.text\":\"text\"})\n",
    "tweets = tweets.drop([\"hashtags\"], axis=1)\n",
    "tweets = pd.merge(tweets, data_identification, on=\"tweet_id\", how=\"left\")\n",
    "\n",
    "### Clear special symbol\n",
    "tweets['text'] = tweets['text'].str.replace(' ', '')\n",
    "tweets['text'] = tweets['text'].str.replace('#', '')\n",
    "\n",
    "### Get and save tweets test dataset\n",
    "df_test = tweets[tweets[\"identification\"] == \"test\"]\n",
    "df_test = df_test.drop(columns=['identification'])\n",
    "df_test.to_pickle(\"data/df_test.pkl\")\n",
    "df_test = df_test[:100]\n",
    "\n",
    "# The length of each tweets to inference, rest will be truncated.\n",
    "seq_len = 128\n",
    "num_samples = len(df_test)\n",
    "seq_len, num_samples\n",
    "\n",
    "# Initialize tokenizer\n",
    "tokenizer = BertweetTokenizer.from_pretrained('vinai/bertweet-base', nomralization=True)\n",
    "\n",
    "# Tokenize the tweets and returning Numpy tensors\n",
    "tokens = tokenizer(df_test['text'].tolist(), max_length=seq_len, truncation=True,\n",
    "                   padding='max_length', add_special_tokens=True,\n",
    "                   return_tensors='tf')\n",
    "\n",
    "# The required input for a bert model, input ids, token type id attention masks\n",
    "tokens.keys()\n",
    "\n",
    "# Need to transform into tensorflow tensor type\n",
    "Xids = tokens['input_ids']\n",
    "Xmask = tokens['attention_mask']\n",
    "Xtoktype = tokens['token_type_ids']\n",
    "Xids = tf.cast(Xids, 'float64')\n",
    "Xmask = tf.cast(Xmask, 'float64')\n",
    "Xtoktype = tf.cast(Xtoktype, 'float64')\n",
    "del tokens\n",
    "\n",
    "dataset = tf.data.Dataset.from_tensor_slices((Xids, Xmask))\n",
    "\n",
    "def map_func(input_ids, masks):\n",
    "    # We convert our three-item tuple into a two-item tuple where the input item is a dictionary\n",
    "    return {'input_ids': input_ids, 'attention_mask': masks}\n",
    "\n",
    "batch_size = 16\n",
    "# then we use the dataset map method to apply this transformation\n",
    "dataset = dataset.map(map_func)\n",
    "dataset = dataset.batch(batch_size, drop_remainder=False)\n",
    "\n",
    "# Save token test dataset\n",
    "tf.data.experimental.save(dataset, 'data/test_ds')\n",
    "test_ds = tf.data.experimental.load('data/test_ds')\n",
    "\n",
    "# Load trained BERT model\n",
    "model = tf.keras.models.load_model('DM_model_Bert')\n",
    "result = model.predict(test_ds, batch_size=None)\n",
    "\n",
    "# Result list\n",
    "result_cat = ['anger', 'anticipation', 'disgust', 'fear', 'joy', 'sadness', 'surprise', 'trust']\n",
    "\n",
    "# Change result vector into result category\n",
    "def my_func(a):\n",
    "    max_index = np.argmax(a)\n",
    "    return result_cat[max_index]\n",
    "result_str = np.apply_along_axis(my_func, 1, result)\n",
    "\n",
    "# Delete unneeded column\n",
    "df_test[\"emotion\"] = result_str\n",
    "df_test = df_test.drop([\"text\"], axis=1)\n",
    "df_test = df_test.rename(columns={\"tweet_id\":\"id\"})\n",
    "df_test = df_test.drop_duplicates(subset=[\"id\"], keep=False)\n",
    "\n",
    "# Save result.csv to local storage\n",
    "print(df_test)\n",
    "print(df_test.shape)\n",
    "df_test.to_csv('result.csv', index=False)"
   ]
  }
 ],
 "metadata": {
  "kernelspec": {
   "display_name": "Python 3 (ipykernel)",
   "language": "python",
   "name": "python3"
  },
  "language_info": {
   "codemirror_mode": {
    "name": "ipython",
    "version": 3
   },
   "file_extension": ".py",
   "mimetype": "text/x-python",
   "name": "python",
   "nbconvert_exporter": "python",
   "pygments_lexer": "ipython3",
   "version": "3.10.8"
  },
  "varInspector": {
   "cols": {
    "lenName": 16,
    "lenType": 16,
    "lenVar": 40
   },
   "kernels_config": {
    "python": {
     "delete_cmd_postfix": "",
     "delete_cmd_prefix": "del ",
     "library": "var_list.py",
     "varRefreshCmd": "print(var_dic_list())"
    },
    "r": {
     "delete_cmd_postfix": ") ",
     "delete_cmd_prefix": "rm(",
     "library": "var_list.r",
     "varRefreshCmd": "cat(var_dic_list()) "
    }
   },
   "types_to_exclude": [
    "module",
    "function",
    "builtin_function_or_method",
    "instance",
    "_Feature"
   ],
   "window_display": false
  }
 },
 "nbformat": 4,
 "nbformat_minor": 2
}
